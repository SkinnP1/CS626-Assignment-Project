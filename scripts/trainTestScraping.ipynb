{
 "cells": [
  {
   "cell_type": "code",
   "execution_count": 45,
   "metadata": {},
   "outputs": [],
   "source": [
    "import nltk\n",
    "import numpy as np"
   ]
  },
  {
   "cell_type": "code",
   "execution_count": 46,
   "metadata": {},
   "outputs": [],
   "source": [
    "trainPath = \"../assignment2dataset/train.txt\""
   ]
  },
  {
   "cell_type": "code",
   "execution_count": 47,
   "metadata": {},
   "outputs": [],
   "source": [
    "wholeTrainSet = []\n",
    "with open(trainPath) as fp: \n",
    "    Lines = fp.readlines() \n",
    "    sentence = []\n",
    "    for line in Lines: \n",
    "        lineList = line.split(\" \")\n",
    "        word = lineList[0]\n",
    "        if word==\"\\n\":\n",
    "            wholeTrainSet.append(sentence)\n",
    "            sentence = []\n",
    "            continue\n",
    "        tag = lineList[2][0]\n",
    "        sentence.append((word,tag))"
   ]
  },
  {
   "cell_type": "code",
   "execution_count": 48,
   "metadata": {},
   "outputs": [],
   "source": [
    "testPath = \"../assignment2dataset/test.txt\""
   ]
  },
  {
   "cell_type": "code",
   "execution_count": 49,
   "metadata": {},
   "outputs": [],
   "source": [
    "wholeTestSet = []\n",
    "with open(testPath) as fp: \n",
    "    Lines = fp.readlines() \n",
    "    sentence = []\n",
    "    for line in Lines: \n",
    "        lineList = line.split(\" \")\n",
    "        word = lineList[0]\n",
    "        if word==\"\\n\":\n",
    "            wholeTestSet.append(sentence)\n",
    "            sentence = []\n",
    "            continue\n",
    "        tag = lineList[2][0]\n",
    "        sentence.append((word,tag))"
   ]
  },
  {
   "cell_type": "code",
   "execution_count": 51,
   "metadata": {},
   "outputs": [
    {
     "name": "stdout",
     "output_type": "stream",
     "text": [
      "[('Rockwell', 'B'), ('International', 'I'), ('Corp.', 'I'), (\"'s\", 'B'), ('Tulsa', 'I'), ('unit', 'I'), ('said', 'B'), ('it', 'B'), ('signed', 'B'), ('a', 'B'), ('tentative', 'I'), ('agreement', 'I'), ('extending', 'B'), ('its', 'B'), ('contract', 'I'), ('with', 'B'), ('Boeing', 'B'), ('Co.', 'I'), ('to', 'B'), ('provide', 'I'), ('structural', 'B'), ('parts', 'I'), ('for', 'B'), ('Boeing', 'B'), (\"'s\", 'B'), ('747', 'I'), ('jetliners', 'I'), ('.', 'O')]\n"
     ]
    }
   ],
   "source": [
    "print(wholeTestSet[0])"
   ]
  },
  {
   "cell_type": "code",
   "execution_count": null,
   "metadata": {},
   "outputs": [],
   "source": []
  }
 ],
 "metadata": {
  "kernelspec": {
   "display_name": "Python 3",
   "language": "python",
   "name": "python3"
  },
  "language_info": {
   "codemirror_mode": {
    "name": "ipython",
    "version": 3
   },
   "file_extension": ".py",
   "mimetype": "text/x-python",
   "name": "python",
   "nbconvert_exporter": "python",
   "pygments_lexer": "ipython3",
   "version": "3.6.9"
  }
 },
 "nbformat": 4,
 "nbformat_minor": 2
}
