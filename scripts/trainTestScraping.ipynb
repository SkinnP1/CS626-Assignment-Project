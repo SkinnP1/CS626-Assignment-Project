{
 "cells": [
  {
   "cell_type": "code",
   "execution_count": 45,
   "metadata": {},
   "outputs": [],
   "source": [
    "import nltk\n",
    "import numpy as np"
   ]
  },
  {
   "cell_type": "code",
   "execution_count": 46,
   "metadata": {},
   "outputs": [],
   "source": [
    "trainPath = \"../assignment2dataset/train.txt\""
   ]
  },
  {
   "cell_type": "code",
   "execution_count": 47,
   "metadata": {},
   "outputs": [],
   "source": [
    "wholeTrainSet = []\n",
    "with open(trainPath) as fp: \n",
    "    Lines = fp.readlines() \n",
    "    sentence = []\n",
    "    for line in Lines: \n",
    "        lineList = line.split(\" \")\n",
    "        word = lineList[0]\n",
    "        if word==\"\\n\":\n",
    "            wholeTrainSet.append(sentence)\n",
    "            sentence = []\n",
    "            continue\n",
    "        tag = lineList[2][0]\n",
    "        sentence.append((word,tag))"
   ]
  },
  {
   "cell_type": "code",
   "execution_count": 2,
   "metadata": {},
   "outputs": [],
   "source": [
    "testPath = \"../assignment2dataset/test.txt\""
   ]
  },
  {
   "cell_type": "code",
   "execution_count": 3,
   "metadata": {},
   "outputs": [],
   "source": [
    "wholeTestSet = []\n",
    "with open(testPath) as fp: \n",
    "    Lines = fp.readlines() \n",
    "    sentence = []\n",
    "    for line in Lines: \n",
    "        lineList = line.split(\" \")\n",
    "        word = lineList[0]\n",
    "        if word==\"\\n\":\n",
    "            wholeTestSet.append(sentence)\n",
    "            sentence = []\n",
    "            continue\n",
    "        tag = lineList[2][0]\n",
    "        sentence.append((word,tag))"
   ]
  },
  {
   "cell_type": "code",
   "execution_count": 1,
   "metadata": {},
   "outputs": [],
   "source": []
  },
  {
   "cell_type": "code",
   "execution_count": null,
   "metadata": {},
   "outputs": [],
   "source": []
  }
 ],
 "metadata": {
  "kernelspec": {
   "display_name": "Python 3",
   "language": "python",
   "name": "python3"
  },
  "language_info": {
   "codemirror_mode": {
    "name": "ipython",
    "version": 3
   },
   "file_extension": ".py",
   "mimetype": "text/x-python",
   "name": "python",
   "nbconvert_exporter": "python",
   "pygments_lexer": "ipython3",
   "version": "3.6.9"
  }
 },
 "nbformat": 4,
 "nbformat_minor": 2
}
