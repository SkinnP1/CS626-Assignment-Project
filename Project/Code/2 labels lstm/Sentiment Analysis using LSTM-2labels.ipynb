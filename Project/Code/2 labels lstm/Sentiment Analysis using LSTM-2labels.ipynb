{
 "cells": [
  {
   "cell_type": "code",
   "execution_count": 2,
   "metadata": {},
   "outputs": [
    {
     "name": "stderr",
     "output_type": "stream",
     "text": [
      "Using TensorFlow backend.\n"
     ]
    }
   ],
   "source": [
    "import numpy as np\n",
    "import pandas as pd\n",
    "import keras\n",
    "import tensorflow as tf\n",
    "from keras.models import Sequential\n",
    "from keras.layers import Embedding,Dense,Dropout,Bidirectional,LSTM,InputLayer\n",
    "from keras.preprocessing.text import Tokenizer, text_to_word_sequence\n",
    "from keras.preprocessing.sequence import pad_sequences\n",
    "import bz2\n",
    "from sklearn.metrics import f1_score, roc_auc_score, accuracy_score, classification_report, confusion_matrix\n",
    "import re\n",
    "from sklearn.preprocessing import LabelEncoder\n",
    "import nltk\n",
    "from nltk.corpus import stopwords\n"
   ]
  },
  {
   "cell_type": "code",
   "execution_count": 2,
   "metadata": {},
   "outputs": [],
   "source": [
    "\"\"\"\n",
    "Fetching the dataset from the dataset folder\n",
    "\n",
    "\"\"\"\n",
    "\n",
    "import os \n",
    "os.listdir(\"./dataset\")\n",
    "dataset = bz2.BZ2File('./dataset/train.ft.txt.bz2')\n",
    "test_data = bz2.BZ2File('./dataset/test.ft.txt.bz2')"
   ]
  },
  {
   "cell_type": "code",
   "execution_count": null,
   "metadata": {},
   "outputs": [],
   "source": [
    "def getData(dataset):\n",
    "    \"\"\"\n",
    "    Split the data From the labels\n",
    "    \n",
    "    Input : dataset\n",
    "    \n",
    "    return value : array of labels, array of text reviews\n",
    "    \n",
    "    \"\"\"\n",
    "    labels = []\n",
    "    texts = []\n",
    "    for line in dataset:\n",
    "        sentence = line.decode(\"utf-8\")\n",
    "        label,text = sentence.split(\" \",1)\n",
    "        labels.append(label)\n",
    "        texts.append(text)\n",
    "    return np.array(labels),texts\n",
    "train_labels,train_texts = getData(dataset)\n",
    "test_labels,test_texts = getData(test_data)"
   ]
  },
  {
   "cell_type": "code",
   "execution_count": null,
   "metadata": {},
   "outputs": [],
   "source": [
    "\"\"\"\n",
    "Building a DataFrame\n",
    "\"\"\"\n",
    "labels = pd.Series(train_labels)\n",
    "texts = pd.Series(train_texts)\n",
    "encoder = LabelEncoder()\n",
    "labels = encoder.fit_transform(labels)\n",
    "df = pd.DataFrame()\n",
    "df['labels'] = labels\n",
    "df['texts'] = texts\n",
    "\n",
    "labels = pd.Series(test_labels)\n",
    "texts = pd.Series(test_texts)\n",
    "labels = encoder.fit_transform(labels)\n",
    "df_test = pd.DataFrame()\n",
    "df_test['labels'] = labels\n",
    "df_test['texts'] = texts\n",
    "\n",
    "train_data = df[:20000]\n",
    "test_data = df[:5000]"
   ]
  },
  {
   "cell_type": "markdown",
   "metadata": {},
   "source": [
    "# Labels Distribution"
   ]
  },
  {
   "cell_type": "code",
   "execution_count": null,
   "metadata": {},
   "outputs": [],
   "source": [
    "\"\"\"\n",
    "Count values for each labels\n",
    "\n",
    "\"\"\"\n",
    "print(\"labels in the dataset : \",train_data.labels.unique())\n",
    "print(f\"\\ntrain data distribution\\n{train_data.labels.value_counts()}\")\n",
    "print(f\"\\ntest data distribution\\n{test_data.labels.value_counts()}\")"
   ]
  },
  {
   "cell_type": "code",
   "execution_count": null,
   "metadata": {},
   "outputs": [],
   "source": [
    "def preprocessing(data):\n",
    "    \"\"\"\n",
    "    Preprocessing the data by removing the stopwords, non ascii, punctuation and digits\n",
    "    \n",
    "    input : data\n",
    "    return value : processed data\n",
    "    \n",
    "    \"\"\"\n",
    "    preprocessed = []\n",
    "    \n",
    "    for sents in data:\n",
    "        \n",
    "        #text1 = sents.lower()\n",
    "        tokens = nltk.word_tokenize(sents)\n",
    "        \"\"\"\n",
    "            Removing Stopword\n",
    "        \"\"\"\n",
    "        text1 = \" \".join(w.lower()  for w in tokens if not w in stopwords.words())\n",
    "        \"\"\"\n",
    "        Removing Punctuations\n",
    "        \"\"\"\n",
    "        text1 = re.compile(r'[\\W]').sub(r' ',text1) \n",
    "        \"\"\"\n",
    "        Removing Non Ascii words\n",
    "        \"\"\"\n",
    "        text1 = re.compile(r'[^a-z0-1\\s]').sub(r' ',text1)\n",
    "        \"\"\"\n",
    "        Removing Digits\n",
    "        \"\"\"\n",
    "        text1 = re.sub(\"(\\s\\d+)\",\"\",text1)\n",
    "        preprocessed.append(text1)\n",
    "        \n",
    "    return preprocessed"
   ]
  },
  {
   "cell_type": "code",
   "execution_count": null,
   "metadata": {},
   "outputs": [],
   "source": [
    "cleaned_train = preprocessing(train_data.texts)\n",
    "cleaned_test = preprocessing(test_data.texts)\n",
    "cleaned_data = pd.DataFrame()\n",
    "cleaned_data['labels'] = train_data.labels\n",
    "cleaned_data['texts'] = cleaned_train\n",
    "\n",
    "cleaned_test = pd.DataFrame()\n",
    "cleaned_test['labels'] = test_data.labels\n",
    "cleaned_test['texts'] = cleaned_test\n",
    "\n",
    "cleaned_data.to_csv(\"ptrain_data.csv\",index=None)\n",
    "cleaned_test.to_csv(\"ptest_data.csv\",index=None)\n"
   ]
  },
  {
   "cell_type": "code",
   "execution_count": 3,
   "metadata": {},
   "outputs": [],
   "source": [
    "train = pd.read_csv(\"ptrain_data.csv\")\n",
    "test = pd.read_csv(\"ptest_data.csv\")"
   ]
  },
  {
   "cell_type": "code",
   "execution_count": 4,
   "metadata": {},
   "outputs": [],
   "source": [
    "\n",
    "\"\"\"\n",
    "Tokenizing the sentences\n",
    "\n",
    "\"\"\"\n",
    "tokenizer = Tokenizer()\n",
    "tokenizer.fit_on_texts(train.texts)\n",
    "train_texts = tokenizer.texts_to_sequences(train.texts)\n",
    "test_texts = tokenizer.texts_to_sequences(test.texts)"
   ]
  },
  {
   "cell_type": "code",
   "execution_count": 5,
   "metadata": {},
   "outputs": [],
   "source": [
    "MAX_FEATURES = len(tokenizer.word_index)+1"
   ]
  },
  {
   "cell_type": "code",
   "execution_count": 6,
   "metadata": {},
   "outputs": [],
   "source": [
    "\"\"\"\n",
    "Padding the sentences to maxlength\n",
    "\n",
    "\"\"\"\n",
    "\n",
    "MAX_LENGTH = max(len(train_ex) for train_ex in train_texts)\n",
    "train_text = pad_sequences(train_texts, maxlen=MAX_LENGTH)\n",
    "test_text = pad_sequences(test_texts, maxlen=MAX_LENGTH)"
   ]
  },
  {
   "cell_type": "code",
   "execution_count": 7,
   "metadata": {},
   "outputs": [
    {
     "name": "stdout",
     "output_type": "stream",
     "text": [
      "WARNING:tensorflow:From C:\\Users\\91799\\Anaconda3\\lib\\site-packages\\tensorflow_core\\python\\ops\\resource_variable_ops.py:1630: calling BaseResourceVariable.__init__ (from tensorflow.python.ops.resource_variable_ops) with constraint is deprecated and will be removed in a future version.\n",
      "Instructions for updating:\n",
      "If using Keras pass *_constraint arguments to layers.\n"
     ]
    }
   ],
   "source": [
    "\"\"\"\n",
    "Building a BiLSTM model \n",
    "Embedding layer -> embed dim = 64\n",
    "Dropout -> 0.5\n",
    "BiLSTM Layer :units -> 128\n",
    "Dense layer : 64 units, relu activation\n",
    "output dense layer 1 unit, sigmoid activation\n",
    "\n",
    "\"\"\"\n",
    "model = Sequential()\n",
    "model.add(Embedding(MAX_FEATURES,64,input_length=MAX_LENGTH))\n",
    "model.add(Dropout(0.5))\n",
    "model.add(Bidirectional(LSTM(128)))\n",
    "model.add(Dense(64,activation='relu'))\n",
    "model.add(Dense(1,activation='sigmoid'))"
   ]
  },
  {
   "cell_type": "code",
   "execution_count": 8,
   "metadata": {},
   "outputs": [
    {
     "name": "stdout",
     "output_type": "stream",
     "text": [
      "Model: \"sequential_1\"\n",
      "_________________________________________________________________\n",
      "Layer (type)                 Output Shape              Param #   \n",
      "=================================================================\n",
      "embedding_1 (Embedding)      (None, 204, 64)           3039296   \n",
      "_________________________________________________________________\n",
      "dropout_1 (Dropout)          (None, 204, 64)           0         \n",
      "_________________________________________________________________\n",
      "bidirectional_1 (Bidirection (None, 256)               197632    \n",
      "_________________________________________________________________\n",
      "dense_1 (Dense)              (None, 64)                16448     \n",
      "_________________________________________________________________\n",
      "dense_2 (Dense)              (None, 1)                 65        \n",
      "=================================================================\n",
      "Total params: 3,253,441\n",
      "Trainable params: 3,253,441\n",
      "Non-trainable params: 0\n",
      "_________________________________________________________________\n"
     ]
    }
   ],
   "source": [
    "model.summary()"
   ]
  },
  {
   "cell_type": "code",
   "execution_count": 9,
   "metadata": {},
   "outputs": [
    {
     "name": "stdout",
     "output_type": "stream",
     "text": [
      "WARNING:tensorflow:From C:\\Users\\91799\\Anaconda3\\lib\\site-packages\\tensorflow_core\\python\\ops\\nn_impl.py:183: where (from tensorflow.python.ops.array_ops) is deprecated and will be removed in a future version.\n",
      "Instructions for updating:\n",
      "Use tf.where in 2.0, which has the same broadcast rule as np.where\n"
     ]
    }
   ],
   "source": [
    "model.compile(loss='binary_crossentropy',optimizer='Adam',metrics=['accuracy'])"
   ]
  },
  {
   "cell_type": "code",
   "execution_count": 10,
   "metadata": {},
   "outputs": [
    {
     "name": "stdout",
     "output_type": "stream",
     "text": [
      "WARNING:tensorflow:From C:\\Users\\91799\\Anaconda3\\lib\\site-packages\\keras\\backend\\tensorflow_backend.py:422: The name tf.global_variables is deprecated. Please use tf.compat.v1.global_variables instead.\n",
      "\n",
      "Train on 15000 samples, validate on 5000 samples\n",
      "Epoch 1/5\n",
      "15000/15000 [==============================] - 112s 7ms/step - loss: 0.5232 - accuracy: 0.7261 - val_loss: 0.3876 - val_accuracy: 0.8304\n",
      "Epoch 2/5\n",
      "15000/15000 [==============================] - 111s 7ms/step - loss: 0.2555 - accuracy: 0.8991 - val_loss: 0.3518 - val_accuracy: 0.8522\n",
      "Epoch 3/5\n",
      "15000/15000 [==============================] - 116s 8ms/step - loss: 0.1505 - accuracy: 0.9457 - val_loss: 0.4187 - val_accuracy: 0.8516\n",
      "Epoch 4/5\n",
      "15000/15000 [==============================] - 116s 8ms/step - loss: 0.1014 - accuracy: 0.9639 - val_loss: 0.4981 - val_accuracy: 0.8466\n",
      "Epoch 5/5\n",
      "15000/15000 [==============================] - 114s 8ms/step - loss: 0.0783 - accuracy: 0.9717 - val_loss: 0.4747 - val_accuracy: 0.8374\n"
     ]
    }
   ],
   "source": [
    "\"\"\"\n",
    "Fitting the model on the dataset with validation of 0.2 and 5 epochs\n",
    "\"\"\"\n",
    "num_epochs = 5\n",
    "history = model.fit(train_text, train.labels, epochs=num_epochs,validation_split=0.25)"
   ]
  },
  {
   "cell_type": "code",
   "execution_count": 71,
   "metadata": {},
   "outputs": [],
   "source": [
    "predictions = model.predict(test_text)\n"
   ]
  },
  {
   "cell_type": "code",
   "execution_count": 54,
   "metadata": {},
   "outputs": [],
   "source": [
    "\"\"\"\n",
    "Generating Results for our predictions\n",
    "\"\"\"\n",
    "\n",
    "Accuracy_score = accuracy_score(test.labels,(predictions > 0.5) * 1)\n",
    "Confusion_matrix = confusion_matrix(test.labels,(predictions > 0.5) * 1)\n",
    "Classification_report = classification_report(test.labels,(predictions > 0.5) * 1)"
   ]
  },
  {
   "cell_type": "markdown",
   "metadata": {},
   "source": [
    "# ACCURACY"
   ]
  },
  {
   "cell_type": "code",
   "execution_count": 55,
   "metadata": {},
   "outputs": [
    {
     "name": "stdout",
     "output_type": "stream",
     "text": [
      "Accuracy score for the test data : 0.8008\n"
     ]
    }
   ],
   "source": [
    "print(\"Accuracy score for the test data :\",Accuracy_score)"
   ]
  },
  {
   "cell_type": "markdown",
   "metadata": {},
   "source": [
    "# Confusion Matrix"
   ]
  },
  {
   "cell_type": "code",
   "execution_count": 14,
   "metadata": {},
   "outputs": [
    {
     "name": "stdout",
     "output_type": "stream",
     "text": [
      "Confusion Matrix :\n",
      " [[1812  562]\n",
      " [ 434 2192]]\n"
     ]
    }
   ],
   "source": [
    "print(\"Confusion Matrix :\\n\",Confusion_matrix)"
   ]
  },
  {
   "cell_type": "markdown",
   "metadata": {},
   "source": [
    "# Classification Report"
   ]
  },
  {
   "cell_type": "code",
   "execution_count": 15,
   "metadata": {},
   "outputs": [
    {
     "name": "stdout",
     "output_type": "stream",
     "text": [
      "Classification Report\n",
      "               precision    recall  f1-score   support\n",
      "\n",
      "           0       0.81      0.76      0.78      2374\n",
      "           1       0.80      0.83      0.81      2626\n",
      "\n",
      "    accuracy                           0.80      5000\n",
      "   macro avg       0.80      0.80      0.80      5000\n",
      "weighted avg       0.80      0.80      0.80      5000\n",
      "\n"
     ]
    }
   ],
   "source": [
    "print(\"Classification Report\\n\",Classification_report)"
   ]
  },
  {
   "cell_type": "code",
   "execution_count": 39,
   "metadata": {},
   "outputs": [],
   "source": [
    "\"\"\"\n",
    "Generating the graphs\n",
    "\n",
    "\"\"\"\n",
    "\n",
    "from matplotlib import pyplot as plt\n",
    "x1 = model.history.history['accuracy']\n",
    "x2 = model.history.history['val_accuracy']"
   ]
  },
  {
   "cell_type": "code",
   "execution_count": 57,
   "metadata": {},
   "outputs": [
    {
     "data": {
      "image/png": "[encoded data removed]",
      "text/plain": [
       "<Figure size 432x288 with 1 Axes>"
      ]
     },
     "metadata": {
      "needs_background": "light"
     },
     "output_type": "display_data"
    }
   ],
   "source": [
    "plt.plot([1,2,3,4,5],x1,label=\"train_accuracy\")\n",
    "plt.plot([1,2,3,4,5],x2,label = \"val_accuracy\")\n",
    "plt.ylabel(\"Accuracy\")\n",
    "plt.xlabel(\"Epochs\")\n",
    "plt.title(\"Sentiment Analysis LSTM 2 Labels\")\n",
    "plt.legend()\n",
    "plt.show()"
   ]
  },
  {
   "cell_type": "code",
   "execution_count": null,
   "metadata": {},
   "outputs": [],
   "source": [
    "model.save(\"lstm5model.h5\")\n"
   ]
  },
  {
   "cell_type": "code",
   "execution_count": 2,
   "metadata": {},
   "outputs": [
    {
     "name": "stdout",
     "output_type": "stream",
     "text": [
      "WARNING:tensorflow:From C:\\Users\\91799\\Anaconda3\\lib\\site-packages\\tensorflow_core\\python\\keras\\initializers.py:119: calling RandomUniform.__init__ (from tensorflow.python.ops.init_ops) with dtype is deprecated and will be removed in a future version.\n",
      "Instructions for updating:\n",
      "Call initializer instance with the dtype argument instead of passing it to the constructor\n",
      "WARNING:tensorflow:From C:\\Users\\91799\\Anaconda3\\lib\\site-packages\\tensorflow_core\\python\\ops\\resource_variable_ops.py:1630: calling BaseResourceVariable.__init__ (from tensorflow.python.ops.resource_variable_ops) with constraint is deprecated and will be removed in a future version.\n",
      "Instructions for updating:\n",
      "If using Keras pass *_constraint arguments to layers.\n",
      "WARNING:tensorflow:From C:\\Users\\91799\\Anaconda3\\lib\\site-packages\\tensorflow_core\\python\\ops\\init_ops.py:97: calling VarianceScaling.__init__ (from tensorflow.python.ops.init_ops) with dtype is deprecated and will be removed in a future version.\n",
      "Instructions for updating:\n",
      "Call initializer instance with the dtype argument instead of passing it to the constructor\n",
      "WARNING:tensorflow:From C:\\Users\\91799\\Anaconda3\\lib\\site-packages\\tensorflow_core\\python\\ops\\init_ops.py:97: calling Orthogonal.__init__ (from tensorflow.python.ops.init_ops) with dtype is deprecated and will be removed in a future version.\n",
      "Instructions for updating:\n",
      "Call initializer instance with the dtype argument instead of passing it to the constructor\n",
      "WARNING:tensorflow:From C:\\Users\\91799\\Anaconda3\\lib\\site-packages\\tensorflow_core\\python\\ops\\init_ops.py:97: calling Zeros.__init__ (from tensorflow.python.ops.init_ops) with dtype is deprecated and will be removed in a future version.\n",
      "Instructions for updating:\n",
      "Call initializer instance with the dtype argument instead of passing it to the constructor\n",
      "WARNING:tensorflow:From C:\\Users\\91799\\Anaconda3\\lib\\site-packages\\tensorflow_core\\python\\ops\\nn_impl.py:183: where (from tensorflow.python.ops.array_ops) is deprecated and will be removed in a future version.\n",
      "Instructions for updating:\n",
      "Use tf.where in 2.0, which has the same broadcast rule as np.where\n"
     ]
    }
   ],
   "source": [
    "from tensorflow import keras\n",
    "models = keras.models.load_model('lstm5model.h5')"
   ]
  },
  {
   "cell_type": "code",
   "execution_count": null,
   "metadata": {},
   "outputs": [],
   "source": [
    "\"\"\"\n",
    "Manually checking the output\n",
    "\n",
    "\"\"\"\n",
    "input_sentence = [\"This product is so nice and it is so cheap \"]\n",
    "\n",
    "test_check = tokenizer.texts_to_sequences(input_sentence)\n",
    "test_final = pad_sequences(test_check, maxlen=MAX_LENGTH)\n",
    "#print(test_final)\n",
    "if (models.predict(test_final) > 0.5) * 1 == 1:\n",
    "    print(\"1\")\n",
    "else:\n",
    "    print(\"0\")"
   ]
  },
  {
   "cell_type": "code",
   "execution_count": null,
   "metadata": {},
   "outputs": [],
   "source": []
  }
 ],
 "metadata": {
  "kernelspec": {
   "display_name": "Python 3",
   "language": "python",
   "name": "python3"
  },
  "language_info": {
   "codemirror_mode": {
    "name": "ipython",
    "version": 3
   },
   "file_extension": ".py",
   "mimetype": "text/x-python",
   "name": "python",
   "nbconvert_exporter": "python",
   "pygments_lexer": "ipython3",
   "version": "3.7.4"
  }
 },
 "nbformat": 4,
 "nbformat_minor": 4
}
