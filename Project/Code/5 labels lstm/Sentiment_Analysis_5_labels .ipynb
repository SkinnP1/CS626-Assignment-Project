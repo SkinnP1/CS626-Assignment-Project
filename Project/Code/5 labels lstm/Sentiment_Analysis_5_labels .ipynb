{
  "nbformat": 4,
  "nbformat_minor": 0,
  "metadata": {
    "kernelspec": {
      "display_name": "Python 3",
      "language": "python",
      "name": "python3"
    },
    "language_info": {
      "codemirror_mode": {
        "name": "ipython",
        "version": 3
      },
      "file_extension": ".py",
      "mimetype": "text/x-python",
      "name": "python",
      "nbconvert_exporter": "python",
      "pygments_lexer": "ipython3",
      "version": "3.7.4"
    },
    "colab": {
      "name": "Sentiment Analysis 5 labels.ipynb",
      "provenance": []
    },
    "accelerator": "GPU"
  },
  "cells": [
    {
      "cell_type": "code",
      "metadata": {
        "id": "rGonBVgNrhuL"
      },
      "source": [
        "\"\"\"\n",
        "Importing all necessary libraries\n",
        "-----------------------------------\n",
        "\"\"\"\n",
        "\n",
        "import numpy as np\n",
        "import tensorflow.keras\n",
        "import tensorflow as tf\n",
        "from tensorflow.keras.models import Sequential\n",
        "from tensorflow.keras.layers import Embedding,Dense,Dropout,TimeDistributed,Bidirectional,LSTM,InputLayer\n",
        "import re"
      ],
      "execution_count": null,
      "outputs": []
    },
    {
      "cell_type": "code",
      "metadata": {
        "id": "f4YQW1aorhuR"
      },
      "source": [
        ""
      ],
      "execution_count": null,
      "outputs": []
    },
    {
      "cell_type": "code",
      "metadata": {
        "colab": {
          "base_uri": "https://localhost:8080/"
        },
        "id": "8E05LeiNrhuS",
        "outputId": "2b73ed1e-6d73-40c8-98f9-1cab0ef2eaab"
      },
      "source": [
        "\"\"\"\n",
        "Mounting drive to the Google colab\n",
        "------------------------------------\n",
        "\"\"\"\n",
        "from google.colab import drive\n",
        "drive.mount(\"/content/drive\")\n",
        "!ls \"/content/drive/MyDrive/dataset\""
      ],
      "execution_count": null,
      "outputs": [
        {
          "output_type": "stream",
          "text": [
            "Mounted at /content/drive\n",
            " amazon_review_full_csv.tar.gz\t\t      ptest_data.csv\n",
            " cleaned_data.csv\t\t\t      ptrain_data.csv\n",
            "'Copy of amazon_review_full_csv.tar.gz'       test.csv\n",
            "'Copy of amazon_review_polarity_csv.tar.gz'   testing_data.csv\n",
            " output_NLP_30K.csv\t\t\t      train.csv\n",
            " Processed_output_NLP.csv\n"
          ],
          "name": "stdout"
        }
      ]
    },
    {
      "cell_type": "code",
      "metadata": {
        "colab": {
          "base_uri": "https://localhost:8080/"
        },
        "id": "d_82iKqrrhuT",
        "outputId": "81c3f880-dfab-4c6e-ba82-d2ba218763ee"
      },
      "source": [
        "\"\"\"\r\n",
        "Unzip the dataset tar file\r\n",
        "\"\"\"\r\n",
        "!tar -xvzf '/content/drive/MyDrive/dataset/Copy of amazon_review_full_csv.tar.gz'"
      ],
      "execution_count": null,
      "outputs": [
        {
          "output_type": "stream",
          "text": [
            "amazon_review_full_csv/\n",
            "amazon_review_full_csv/train.csv\n",
            "amazon_review_full_csv/test.csv\n",
            "amazon_review_full_csv/readme.txt\n"
          ],
          "name": "stdout"
        }
      ]
    },
    {
      "cell_type": "code",
      "metadata": {
        "id": "VRfKFQySYwYO"
      },
      "source": [
        "\"\"\"\r\n",
        "Fetching the dataset from local directory\r\n",
        "\"\"\"\r\n",
        "import pandas as pd\r\n",
        "df = pd.read_csv(\"./amazon_review_full_csv/train.csv\",header=None)\r\n",
        "df1 = pd.read_csv(\"./amazon_review_full_csv/test.csv\",header=None)"
      ],
      "execution_count": null,
      "outputs": []
    },
    {
      "cell_type": "code",
      "metadata": {
        "id": "Ayqc9x-HrhuU"
      },
      "source": [
        ""
      ],
      "execution_count": null,
      "outputs": []
    },
    {
      "cell_type": "code",
      "metadata": {
        "id": "kZuLNYgGrhuU"
      },
      "source": [
        "df['text'] = df[2]\r\n",
        "df['label'] = df[0]\r\n",
        "df1['text'] = df1[2]\r\n",
        "df1['label'] = df1[0]"
      ],
      "execution_count": null,
      "outputs": []
    },
    {
      "cell_type": "code",
      "metadata": {
        "colab": {
          "base_uri": "https://localhost:8080/"
        },
        "id": "OIRVW_wRrhuU",
        "outputId": "0375bc94-d8e2-490b-c201-033e1708ffff"
      },
      "source": [
        "\"\"\"\n",
        "Splitting the labels and text data\n",
        "\n",
        "\"\"\"\n",
        "\n",
        "X_train = df.text\n",
        "print(X_train)\n",
        "y_train = df.label-1\n",
        "X_test = df1.text\n",
        "y_test = df1.label-1\n",
        "print(y_train.value_counts())\n",
        "print(y_test.value_counts())\n"
      ],
      "execution_count": null,
      "outputs": [
        {
          "output_type": "stream",
          "text": [
            "0          Gave this to my dad for a gag gift after direc...\n",
            "1          I hope a lot of people hear this cd. We need m...\n",
            "2          I'm reading a lot of reviews saying that this ...\n",
            "3          The music of Yasunori Misuda is without questi...\n",
            "4          Probably the greatest soundtrack in history! U...\n",
            "                                 ...                        \n",
            "2999995    The high chair looks great when it first comes...\n",
            "2999996    I have used this highchair for 2 kids now and ...\n",
            "2999997    We have a small house, and really wanted two o...\n",
            "2999998    I agree with everyone else who says this chair...\n",
            "2999999    not sure what this book is supposed to be. It ...\n",
            "Name: text, Length: 3000000, dtype: object\n",
            "4    600000\n",
            "3    600000\n",
            "2    600000\n",
            "1    600000\n",
            "0    600000\n",
            "Name: label, dtype: int64\n",
            "4    130000\n",
            "3    130000\n",
            "2    130000\n",
            "1    130000\n",
            "0    130000\n",
            "Name: label, dtype: int64\n"
          ],
          "name": "stdout"
        }
      ]
    },
    {
      "cell_type": "code",
      "metadata": {
        "id": "O-scgGLR8dX0"
      },
      "source": [
        ""
      ],
      "execution_count": null,
      "outputs": []
    },
    {
      "cell_type": "code",
      "metadata": {
        "id": "nvuP1hrg7tio"
      },
      "source": [
        "def preprocessing(data):\r\n",
        "    \"\"\"\r\n",
        "    Preprocessing the data by removing the stopwords, non ascii, punctutations, digits\r\n",
        "        parameters : data\r\n",
        "        return value : processed data\r\n",
        "    \"\"\"\r\n",
        "    preprocessed = []\r\n",
        "    \r\n",
        "    for sents in data:\r\n",
        "        \r\n",
        "        #text1 = sents.lower()\r\n",
        "        tokens = nltk.word_tokenize(sents)\r\n",
        "        \"\"\"\r\n",
        "            Removing Stopword\r\n",
        "        \"\"\"\r\n",
        "        text1 = \" \".join(w.lower()  for w in tokens if not w in stopwords.words())\r\n",
        "        \"\"\"\r\n",
        "        Removing Punctuations\r\n",
        "        \"\"\"\r\n",
        "         \r\n",
        "        text1 = re.compile(r'[\\W]').sub(r' ',text1) \r\n",
        "        \"\"\"\r\n",
        "        Removing Non Ascii words\r\n",
        "        \"\"\"\r\n",
        "        text1 = re.compile(r'[^a-z0-1\\s]').sub(r' ',text1)\r\n",
        "        \"\"\"\r\n",
        "        Removing Digits\r\n",
        "        \"\"\"\r\n",
        "        text1 = re.sub(\"(\\s\\d+)\",\"\",text1)\r\n",
        "        preprocessed.append(text1)\r\n",
        "        \r\n",
        "    return preprocessed"
      ],
      "execution_count": null,
      "outputs": []
    },
    {
      "cell_type": "code",
      "metadata": {
        "id": "aJkqDGsm84vE"
      },
      "source": [
        "cleaned_train = preprocessing(X_train)\r\n",
        "cleaned_test = preprocessing(X_test)\r\n",
        "cleaned_data = pd.DataFrame()\r\n",
        "cleaned_data['labels'] = y_train\r\n",
        "cleaned_data['texts'] = cleaned_train\r\n",
        "\r\n",
        "cleaned_test = pd.DataFrame()\r\n",
        "cleaned_test['labels'] = y_test\r\n",
        "cleaned_test['texts'] = cleaned_test\r\n",
        "\r\n",
        "\r\n",
        "cleaned_data.to_csv(\"ptrain_data.csv\",index=None)\r\n",
        "#cleaned_test.to_csv(\"ptest_data.csv\",index=None)\r\n",
        "train = pd.read_csv(\"ptrain_data.csv\")\r\n",
        "#test = pd.read_csv(\"ptest_data.csv\")\r\n"
      ],
      "execution_count": null,
      "outputs": []
    },
    {
      "cell_type": "code",
      "metadata": {
        "id": "_x9cRVMY_aYX"
      },
      "source": [
        "test = train[100000:110000]\r\n",
        "train = train[:100000]\r\n"
      ],
      "execution_count": null,
      "outputs": []
    },
    {
      "cell_type": "code",
      "metadata": {
        "id": "ATKykZ7LrhuV"
      },
      "source": [
        "\"\"\"\n",
        "Tokenizing the sentences and converting it into integer sequence\n",
        "\n",
        "\"\"\"\n",
        "\n",
        "from tensorflow.keras.preprocessing.text import Tokenizer\n",
        "from tensorflow.keras.preprocessing.sequence import pad_sequences\n",
        "tokenizer = Tokenizer()\n",
        "tokenizer.fit_on_texts(train.texts)\n",
        "train_texts = tokenizer.texts_to_sequences(train.texts)\n",
        "test_texts = tokenizer.texts_to_sequences(test.texts)\n",
        "MAX_FEATURES = len(tokenizer.word_index)+1\n",
        "\n",
        "MAX_LENGTH = max(len(train_ex) for train_ex in train_texts)\n",
        "train_text = pad_sequences(train_texts, maxlen=MAX_LENGTH)\n",
        "test_text = pad_sequences(test_texts, maxlen=MAX_LENGTH)"
      ],
      "execution_count": null,
      "outputs": []
    },
    {
      "cell_type": "code",
      "metadata": {
        "id": "OZah__Rv7NgT"
      },
      "source": [
        "\"\"\"\r\n",
        "Building a BiLSTM model\r\n",
        "\r\n",
        "\"\"\"\r\n",
        "model = Sequential()\r\n",
        "model.add(Embedding(MAX_FEATURES,64,input_length=MAX_LENGTH))\r\n",
        "model.add(Dropout(0.5))\r\n",
        "model.add(Bidirectional(LSTM(128)))\r\n",
        "model.add(Dropout(0.5))\r\n",
        "model.add(Dense(64,activation='relu'))\r\n",
        "model.add(Dense(5,activation='softmax'))"
      ],
      "execution_count": null,
      "outputs": []
    },
    {
      "cell_type": "code",
      "metadata": {
        "id": "NTMLYxKRrhuX"
      },
      "source": [
        "import tensorflow as tf\n",
        "model.compile(loss='categorical_crossentropy',optimizer='Adam',metrics=['accuracy'])"
      ],
      "execution_count": null,
      "outputs": []
    },
    {
      "cell_type": "code",
      "metadata": {
        "id": "P3EbNw1QbHKc"
      },
      "source": [
        "\"\"\"\r\n",
        "One hot vectorizing the the labels\r\n",
        "\"\"\"\r\n",
        "y_train = tf.keras.utils.to_categorical(train.labels)"
      ],
      "execution_count": null,
      "outputs": []
    },
    {
      "cell_type": "code",
      "metadata": {
        "colab": {
          "base_uri": "https://localhost:8080/"
        },
        "id": "pae0-sxUrhuX",
        "outputId": "0782d7e4-3e22-4091-a887-f31afa394413"
      },
      "source": [
        "\"\"\"\n",
        "Fitting the model with the train dataset\n",
        "\"\"\"\n",
        "\n",
        "num_epochs = 10\n",
        "history = model.fit(train_text, y_train, epochs=num_epochs,validation_split=0.2)"
      ],
      "execution_count": null,
      "outputs": [
        {
          "output_type": "stream",
          "text": [
            "Epoch 1/10\n",
            "2500/2500 [==============================] - 252s 101ms/step - loss: 1.3274 - accuracy: 0.4061 - val_loss: 1.2183 - val_accuracy: 0.4710\n",
            "Epoch 2/10\n",
            "2500/2500 [==============================] - 250s 100ms/step - loss: 1.1398 - accuracy: 0.5081 - val_loss: 1.1819 - val_accuracy: 0.4843\n",
            "Epoch 3/10\n",
            "2500/2500 [==============================] - 250s 100ms/step - loss: 1.0319 - accuracy: 0.5613 - val_loss: 1.2028 - val_accuracy: 0.4865\n",
            "Epoch 4/10\n",
            "2500/2500 [==============================] - 246s 98ms/step - loss: 0.9366 - accuracy: 0.6124 - val_loss: 1.2377 - val_accuracy: 0.4838\n",
            "Epoch 5/10\n",
            "2500/2500 [==============================] - 242s 97ms/step - loss: 0.8543 - accuracy: 0.6529 - val_loss: 1.2797 - val_accuracy: 0.4787\n",
            "Epoch 6/10\n",
            "2500/2500 [==============================] - 242s 97ms/step - loss: 0.7778 - accuracy: 0.6912 - val_loss: 1.3621 - val_accuracy: 0.4747\n",
            "Epoch 7/10\n",
            "2500/2500 [==============================] - 241s 96ms/step - loss: 0.7091 - accuracy: 0.7228 - val_loss: 1.4575 - val_accuracy: 0.4638\n",
            "Epoch 8/10\n",
            "2500/2500 [==============================] - 243s 97ms/step - loss: 0.6462 - accuracy: 0.7490 - val_loss: 1.5111 - val_accuracy: 0.4538\n",
            "Epoch 9/10\n",
            "2500/2500 [==============================] - 244s 98ms/step - loss: 0.5879 - accuracy: 0.7744 - val_loss: 1.6640 - val_accuracy: 0.4538\n",
            "Epoch 10/10\n",
            "2500/2500 [==============================] - 245s 98ms/step - loss: 0.5393 - accuracy: 0.7951 - val_loss: 1.7317 - val_accuracy: 0.4516\n"
          ],
          "name": "stdout"
        }
      ]
    },
    {
      "cell_type": "code",
      "metadata": {
        "id": "SoZlXxNYrhuX"
      },
      "source": [
        "\"\"\"\n",
        "Predicting the output for the test data\n",
        "\n",
        "\"\"\"\n",
        "\n",
        "pred = model.predict(test_text)\n",
        "pred1 = []\n",
        "for i in range(len(pred)):\n",
        "    pred1.append(np.argmax(pred[i]))\n"
      ],
      "execution_count": null,
      "outputs": []
    },
    {
      "cell_type": "code",
      "metadata": {
        "id": "QhGZ4BZyF5wZ"
      },
      "source": [
        "\"\"\"\r\n",
        "Generating the Classification Report and confusion matrix\r\n",
        "\"\"\"\r\n",
        "from sklearn.metrics import accuracy_score,classification_report,confusion_matrix\r\n",
        "Accuracy = accuracy_score(test.labels,pred1)\r\n",
        "Classification_report = classification_report(test.labels,pred1)\r\n",
        "cm  = confusion_matrix(test.labels,pred1)"
      ],
      "execution_count": null,
      "outputs": []
    },
    {
      "cell_type": "code",
      "metadata": {
        "id": "QSI1O3-OrhuX",
        "colab": {
          "base_uri": "https://localhost:8080/",
          "height": 500
        },
        "outputId": "508c4b71-7360-4f8d-ee49-c4f51ce18345"
      },
      "source": [
        "\"\"\"\r\n",
        "Creating the heatmap for the confusion matrix\r\n",
        "\r\n",
        "\"\"\"\r\n",
        "\r\n",
        "import seaborn as sns\r\n",
        "sns.heatmap(cm,cmap=\"Blues\",annot=True,fmt='.4g',xticklabels=['1','2','3','4','5'],yticklabels=['1','2','3','4','5'])\r\n",
        "\r\n",
        "\r\n",
        "print(\"Accuracy : \",Accuracy)\r\n",
        "print(\"Classification Report : \\n\",Classification_report)"
      ],
      "execution_count": null,
      "outputs": [
        {
          "output_type": "stream",
          "text": [
            "Accuracy :  0.4561\n",
            "Classification Report : \n",
            "               precision    recall  f1-score   support\n",
            "\n",
            "           0       0.50      0.62      0.55      1858\n",
            "           1       0.38      0.38      0.38      1945\n",
            "           2       0.40      0.36      0.38      2104\n",
            "           3       0.43      0.34      0.38      2065\n",
            "           4       0.55      0.60      0.57      2028\n",
            "\n",
            "    accuracy                           0.46     10000\n",
            "   macro avg       0.45      0.46      0.45     10000\n",
            "weighted avg       0.45      0.46      0.45     10000\n",
            "\n"
          ],
          "name": "stdout"
        },
        {
          "output_type": "display_data",
          "data": {
            "image/png": "[encoded data removed]",
            "text/plain": [
              "<Figure size 432x288 with 2 Axes>"
            ]
          },
          "metadata": {
            "tags": [],
            "needs_background": "light"
          }
        }
      ]
    },
    {
      "cell_type": "code",
      "metadata": {
        "id": "SeowdsIKrhuY"
      },
      "source": [
        ""
      ],
      "execution_count": null,
      "outputs": []
    },
    {
      "cell_type": "code",
      "metadata": {
        "id": "aSktiQiPrhuY"
      },
      "source": [
        ""
      ],
      "execution_count": null,
      "outputs": []
    }
  ]
}